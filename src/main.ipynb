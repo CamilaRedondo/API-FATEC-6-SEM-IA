{
 "cells": [
  {
   "cell_type": "code",
   "execution_count": 1,
   "id": "227f6d24-6171-4510-ba53-96458407d0a3",
   "metadata": {},
   "outputs": [],
   "source": [
    "# %%\n",
    "\n",
    "import os\n",
    "import re\n",
    "import spacy\n",
    "import nltk\n",
    "import unicodedata\n",
    "import pandas as pd\n",
    "from nltk.corpus import stopwords\n",
    "from dotenv import load_dotenv\n",
    "from langchain import hub\n",
    "from langchain_community.document_loaders import CSVLoader\n",
    "from langchain_groq import ChatGroq\n",
    "from langchain_text_splitters import RecursiveCharacterTextSplitter\n",
    "from langchain_huggingface import HuggingFaceEmbeddings\n",
    "from langchain_core.runnables import RunnablePassthrough\n",
    "from langchain_core.output_parsers import StrOutputParser\n",
    "from langchain_chroma import Chroma\n",
    "from util import dir_management"
   ]
  },
  {
   "cell_type": "code",
   "execution_count": 2,
   "id": "ead8d4fc-b79a-4f3a-978a-80ba90868db8",
   "metadata": {},
   "outputs": [
    {
     "name": "stderr",
     "output_type": "stream",
     "text": [
      "[nltk_data] Downloading package stopwords to\n",
      "[nltk_data]     C:\\Users\\opt\\AppData\\Roaming\\nltk_data...\n",
      "[nltk_data]   Package stopwords is already up-to-date!\n"
     ]
    }
   ],
   "source": [
    "# %%\n",
    "\n",
    "load_dotenv()\n",
    "os.environ['LANGCHAIN_TRACING_V2'] = os.getenv('LANGCHAIN_TRACING_V2')\n",
    "os.environ['LANGCHAIN_API_KEY'] = os.getenv('LANGCHAIN_API_KEY')\n",
    "os.environ['GROQ_API_KEY'] = os.getenv('GROQ_API_KEY')\n",
    "os.environ['OPENAI_API_KEY'] = os.getenv('OPENAI_API_KEY')\n",
    "llm = ChatGroq(model=\"llama3-8b-8192\")\n",
    "nltk.download('stopwords')\n",
    "nlp = spacy.load('pt_core_news_sm')\n",
    "stop_words = set(stopwords.words('portuguese'))\n",
    "csv_columns = ['product_name', 'site_category_lv2',\n",
    "               'overall_rating', 'review_text']"
   ]
  },
  {
   "cell_type": "code",
   "execution_count": 3,
   "id": "e19d51dc-6927-4ce4-a7c6-e58e2b7ca916",
   "metadata": {},
   "outputs": [],
   "source": [
    "# %%\n",
    "\n",
    "def clean_text(text):\n",
    "    text = text.lower()\n",
    "    text = re.sub(r'\\s+', ' ', text).strip()\n",
    "    return text\n",
    "\n",
    "\n",
    "def remove_exclamations_and_periods(text):\n",
    "    text = re.sub(r'[!.,]', '', text)\n",
    "    return text\n",
    "\n",
    "\n",
    "def remove_stop_words(text):\n",
    "    return ' '.join([word for word in text.split() if word not in stop_words])\n",
    "\n",
    "\n",
    "def remove_accents(text):\n",
    "    text = unicodedata.normalize('NFD', text)\n",
    "    text = re.sub(r'[\\u0300-\\u036f]', '', text)\n",
    "    return text\n",
    "\n",
    "\n",
    "def format_docs(docs):\n",
    "    return '\\n\\n'.join(doc.page_content for doc in docs)"
   ]
  },
  {
   "cell_type": "code",
   "execution_count": 4,
   "id": "30b0dd6d-ca98-4f1a-b339-bb01a7420040",
   "metadata": {},
   "outputs": [
    {
     "name": "stderr",
     "output_type": "stream",
     "text": [
      "C:\\Users\\opt\\AppData\\Local\\Temp\\ipykernel_14940\\3530003267.py:4: DtypeWarning: Columns (2) have mixed types. Specify dtype option on import or set low_memory=False.\n",
      "  df = pd.read_csv('../B2W-Reviews.csv')\n"
     ]
    }
   ],
   "source": [
    "# %%\n",
    "\n",
    "rows_number = 5000  # Define quantas rows do csv serão utilizadas no RAG\n",
    "df = pd.read_csv('../B2W-Reviews.csv')\n",
    "df_reduced = df.drop(\n",
    "    columns=[col for col in df.columns if col not in csv_columns])\n",
    "for column in csv_columns:\n",
    "    df_reduced[column] = df_reduced[column].apply(lambda x: clean_text(str(x)))\n",
    "    df_reduced[column] = df_reduced[column].apply(\n",
    "        lambda x: remove_exclamations_and_periods(str(x)))\n",
    "    df_reduced[column] = df_reduced[column].apply(\n",
    "        lambda x: remove_accents(str(x)))\n",
    "    df_reduced[column] = df_reduced[column].apply(\n",
    "        lambda x: remove_stop_words(str(x)))\n",
    "\n",
    "result_file_name = f'B2W-Reviews-top{rows_number}.csv'\n",
    "new_df = df_reduced.head(rows_number).to_csv(os.path.join\n",
    "                                             (dir_management.get_out_dir(),\n",
    "                                              result_file_name))"
   ]
  },
  {
   "cell_type": "code",
   "execution_count": 5,
   "id": "43eefb88-5e1f-46a6-a173-7e9edc927c8a",
   "metadata": {},
   "outputs": [
    {
     "name": "stderr",
     "output_type": "stream",
     "text": [
      "c:\\Projetos\\Testes_IA\\API-FATEC-6-SEM-IA\\venv\\lib\\site-packages\\sentence_transformers\\cross_encoder\\CrossEncoder.py:13: TqdmWarning: IProgress not found. Please update jupyter and ipywidgets. See https://ipywidgets.readthedocs.io/en/stable/user_install.html\n",
      "  from tqdm.autonotebook import tqdm, trange\n",
      "c:\\Projetos\\Testes_IA\\API-FATEC-6-SEM-IA\\venv\\lib\\site-packages\\transformers\\tokenization_utils_base.py:1601: FutureWarning: `clean_up_tokenization_spaces` was not set. It will be set to `True` by default. This behavior will be depracted in transformers v4.45, and will be then set to `False` by default. For more details check this issue: https://github.com/huggingface/transformers/issues/31884\n",
      "  warnings.warn(\n"
     ]
    }
   ],
   "source": [
    "# %%\n",
    "\n",
    "loader = CSVLoader(file_path=os.path.join(dir_management.get_out_dir(),\n",
    "                                          result_file_name),\n",
    "                   encoding='utf-8',\n",
    "                   csv_args={\n",
    "                       'delimiter': ',',\n",
    "                       'quotechar': '\"',\n",
    "                       'fieldnames': csv_columns\n",
    "})\n",
    "\n",
    "docs = loader.load()\n",
    "\n",
    "text_splitter = RecursiveCharacterTextSplitter(\n",
    "    chunk_size=1000, chunk_overlap=200)\n",
    "splits = text_splitter.split_documents(docs)\n",
    "model_name = 'sentence-transformers/all-MiniLM-L6-v2'\n",
    "model_kwargs = {'device': 'cpu'}\n",
    "encode_kwargs = {'normalize_embeddings': False}\n",
    "hf = HuggingFaceEmbeddings(\n",
    "    model_name=model_name,\n",
    "    model_kwargs=model_kwargs,\n",
    "    encode_kwargs=encode_kwargs\n",
    ")\n",
    "vectorstore = Chroma.from_documents(\n",
    "    documents=splits, embedding=hf)\n",
    "\n",
    "retriever = vectorstore.as_retriever()\n",
    "prompt = hub.pull('rlm/rag-prompt')"
   ]
  },
  {
   "cell_type": "code",
   "execution_count": 6,
   "id": "feeba48e-650e-4669-943f-bb3ec0657b5f",
   "metadata": {},
   "outputs": [
    {
     "data": {
      "text/plain": [
       "'Vou indicar dois smartphones que podem ser de interesse: o Samsung Galaxy J7 Metal Dual Chip Android 6.0, com tela de 5,5\", 16GB e câmera de 13MP, e o Samsung Galaxy J7 Prime Dual Chip Android, com tela de 5,5\", 32GB e câmera de 13MP.'"
      ]
     },
     "execution_count": 6,
     "metadata": {},
     "output_type": "execute_result"
    }
   ],
   "source": [
    "# %%\n",
    "\n",
    "rag_chain = (\n",
    "    {'context': retriever |\n",
    "        format_docs, 'question': RunnablePassthrough()}\n",
    "    | prompt\n",
    "    | llm\n",
    "    | StrOutputParser()\n",
    ")\n",
    "\n",
    "rag_chain.invoke(\n",
    "    'Pode me indicar um Smartphones? Responda em português do Brasil')"
   ]
  },
  {
   "cell_type": "code",
   "execution_count": 9,
   "id": "f1130f87-25c5-4e41-9535-c363346a605e",
   "metadata": {},
   "outputs": [
    {
     "data": {
      "text/plain": [
       "'Um presente infantil! Eu sugiro o produto 3857, um livro infantil chamado \"5 Incríveis Histórias da Fazenda\".'"
      ]
     },
     "execution_count": 9,
     "metadata": {},
     "output_type": "execute_result"
    }
   ],
   "source": [
    "# %%\n",
    "\n",
    "rag_chain = (\n",
    "    {'context': retriever |\n",
    "        format_docs, 'question': RunnablePassthrough()}\n",
    "    | prompt\n",
    "    | llm\n",
    "    | StrOutputParser()\n",
    ")\n",
    "\n",
    "rag_chain.invoke(\n",
    "    'Me indique um presente infantil? Responda em português do Brasil para um usuário final')"
   ]
  }
 ],
 "metadata": {
  "kernelspec": {
   "display_name": "venv",
   "language": "python",
   "name": "python3"
  },
  "language_info": {
   "codemirror_mode": {
    "name": "ipython",
    "version": 3
   },
   "file_extension": ".py",
   "mimetype": "text/x-python",
   "name": "python",
   "nbconvert_exporter": "python",
   "pygments_lexer": "ipython3",
   "version": "3.10.7"
  }
 },
 "nbformat": 4,
 "nbformat_minor": 2
}
