{
 "cells": [
  {
   "cell_type": "code",
   "execution_count": 3,
   "id": "72c879c2-b4a9-4dd7-b727-ee00d53320f4",
   "metadata": {},
   "outputs": [],
   "source": [
    "import os\n",
    "import re\n",
    "import spacy\n",
    "import nltk\n",
    "import unicodedata\n",
    "import pandas as pd\n",
    "from nltk.corpus import stopwords\n",
    "from dotenv import load_dotenv\n",
    "from langchain_community.document_loaders import CSVLoader\n",
    "from langchain_groq import ChatGroq\n",
    "from langchain_text_splitters import RecursiveCharacterTextSplitter\n",
    "from langchain_huggingface import HuggingFaceEmbeddings\n",
    "from langchain_core.output_parsers import StrOutputParser\n",
    "from langchain_chroma import Chroma\n",
    "from util import dir_management"
   ]
  },
  {
   "cell_type": "code",
   "execution_count": 4,
   "id": "de9bad1c-5497-4408-9821-26d680a5a1e6",
   "metadata": {},
   "outputs": [],
   "source": [
    "# %%\n",
    "\n",
    "load_dotenv()\n",
    "os.environ['LANGCHAIN_TRACING_V2'] = os.getenv('LANGCHAIN_TRACING_V2')\n",
    "os.environ['LANGCHAIN_API_KEY'] = os.getenv('LANGCHAIN_API_KEY')\n",
    "os.environ['GROQ_API_KEY'] = os.getenv('GROQ_API_KEY')\n",
    "llm = ChatGroq(model=\"llama3-8b-8192\", temperature=0.2)"
   ]
  },
  {
   "cell_type": "code",
   "execution_count": 5,
   "id": "00d143ce-235e-4b61-8947-b54cb4be2dbc",
   "metadata": {},
   "outputs": [],
   "source": [
    "# %%\n",
    "\n",
    "def load_stopwords():\n",
    "    try:\n",
    "        return set(stopwords.words('portuguese'))\n",
    "    except LookupError:\n",
    "        nltk.download('stopwords')\n",
    "        return set(stopwords.words('portuguese'))\n",
    "\n",
    "\n",
    "stop_words = load_stopwords()\n",
    "\n",
    "nlp = spacy.load('pt_core_news_sm')\n",
    "\n",
    "csv_columns = ['product_name', 'site_category_lv1',\n",
    "               'site_category_lv2', 'overall_rating', 'review_text']"
   ]
  },
  {
   "cell_type": "code",
   "execution_count": 6,
   "id": "be0f1ab4-588e-4f0d-b077-3944433215b3",
   "metadata": {},
   "outputs": [],
   "source": [
    "# %%\n",
    "\n",
    "def clean_text(text):\n",
    "    text = text.lower()\n",
    "    text = re.sub(r'\\s+', ' ', text).strip()\n",
    "    return text\n",
    "\n",
    "\n",
    "def remove_exclamations_and_periods(text):\n",
    "    text = re.sub(r'[!.,@]', '', text)\n",
    "    return text\n",
    "\n",
    "\n",
    "def remove_stop_words(text):\n",
    "    return ' '.join([word for word in text.split() if word not in stop_words])\n",
    "\n",
    "\n",
    "def remove_accents(text):\n",
    "    text = unicodedata.normalize('NFD', text)\n",
    "    text = re.sub(r'[\\u0300-\\u036f]', '', text)\n",
    "    return text\n",
    "\n",
    "\n",
    "def format_docs(docs):\n",
    "    return '\\n\\n'.join(doc.page_content for doc in docs)\n",
    "\n",
    "\n",
    "def remove_filling_words(text):\n",
    "    word_list = [\n",
    "        'de', 'a', 'o', 'do', 'da', 'em', 'para', 'com', 'na', 'por',\n",
    "        'uma', 'os', 'no', 'se', 'mas', 'as', 'dos', 'pois', 'né'\n",
    "    ]\n",
    "    return ' '.join([word for word in text.split() if word not in word_list])\n",
    "\n",
    "\n",
    "def remove_repetitive_words(text):\n",
    "    return re.sub(r'\\b(\\w+)( \\1)+\\b', '', text)\n",
    "\n",
    "\n",
    "def remove_repetitive_letters(text):\n",
    "    return re.sub(r'/(.)\\1{3,}/g', '', text)\n",
    "\n",
    "\n",
    "def batch_documents(documents, batch_size):\n",
    "    for i in range(0, len(documents), batch_size):\n",
    "        yield documents[i:i + batch_size]"
   ]
  },
  {
   "cell_type": "code",
   "execution_count": 7,
   "metadata": {},
   "outputs": [],
   "source": [
    "df = pd.read_csv(os.path.join(\n",
    "    dir_management.get_project_dir(), 'B2W-Reviews.csv'), nrows=5000)\n",
    "df_reduced = df.drop(\n",
    "    columns=[col for col in df.columns if col not in csv_columns])\n",
    "\n",
    "for column in csv_columns:\n",
    "    df_reduced[column] = df_reduced[column].apply(lambda x: clean_text(str(x)))\n",
    "    df_reduced[column] = df_reduced[column].apply(\n",
    "        lambda x: remove_exclamations_and_periods(str(x)))\n",
    "    df_reduced[column] = df_reduced[column].apply(\n",
    "        lambda x: remove_accents(str(x)))\n",
    "    df_reduced[column] = df_reduced[column].apply(\n",
    "        lambda x: remove_stop_words(str(x)))\n",
    "\n",
    "df_reduced[\"review_text\"] = df_reduced[\"review_text\"].apply(\n",
    "    lambda x: remove_filling_words(str(x)))\n",
    "df_reduced[\"review_text\"] = df_reduced[\"review_text\"].apply(\n",
    "    lambda x: remove_repetitive_words(str(x)))\n",
    "df_reduced[\"review_text\"] = df_reduced[\"review_text\"].apply(\n",
    "    lambda x: remove_repetitive_letters(str(x)))\n",
    "\n",
    "result_file_name = f'B2W-Reviews-After-PLN.csv'\n",
    "df_reduced.head(5000).sort_values('site_category_lv1').to_csv(\n",
    "    os.path.join(dir_management.get_out_dir(), result_file_name), index= False)"
   ]
  },
  {
   "cell_type": "markdown",
   "id": "cfdcee09-d5f3-404f-9750-dc6a3867249f",
   "metadata": {},
   "source": [
    "# %%\n",
    "# nao rodar esse (arquivo total do csv)\n",
    "df = pd.read_csv(os.path.join(\n",
    "    dir_management.get_project_dir(), 'B2W-Reviews.csv'))\n",
    "df_reduced = df.drop(\n",
    "    columns=[col for col in df.columns if col not in csv_columns])\n",
    "\n",
    "for column in csv_columns:\n",
    "    df_reduced[column] = df_reduced[column].apply(lambda x: clean_text(str(x)))\n",
    "    df_reduced[column] = df_reduced[column].apply(\n",
    "        lambda x: remove_exclamations_and_periods(str(x)))\n",
    "    df_reduced[column] = df_reduced[column].apply(\n",
    "        lambda x: remove_accents(str(x)))\n",
    "    df_reduced[column] = df_reduced[column].apply(\n",
    "        lambda x: remove_stop_words(str(x)))\n",
    "\n",
    "df_reduced[\"review_text\"] = df_reduced[\"review_text\"].apply(\n",
    "    lambda x: remove_filling_words(str(x)))\n",
    "df_reduced[\"review_text\"] = df_reduced[\"review_text\"].apply(\n",
    "    lambda x: remove_repetitive_words(str(x)))\n",
    "df_reduced[\"review_text\"] = df_reduced[\"review_text\"].apply(\n",
    "    lambda x: remove_repetitive_letters(str(x)))\n",
    "\n",
    "result_file_name = f'B2W-Reviews-After-PLN.csv'\n",
    "df_reduced.sort_values('site_category_lv1').to_csv(\n",
    "    os.path.join(dir_management.get_out_dir(), result_file_name))"
   ]
  },
  {
   "cell_type": "code",
   "execution_count": 8,
   "id": "0236bd27-86c9-4f84-8b87-b43719e113a6",
   "metadata": {},
   "outputs": [],
   "source": [
    "# %%\n",
    "\n",
    "loader = CSVLoader(\n",
    "    file_path=os.path.join(dir_management.get_out_dir(), result_file_name),\n",
    "    encoding='utf-8',\n",
    "    csv_args={\n",
    "        'delimiter': ',',\n",
    "        'quotechar': '\"',\n",
    "        'fieldnames': csv_columns\n",
    "    }\n",
    ")\n",
    "\n",
    "docs = loader.load()"
   ]
  },
  {
   "cell_type": "code",
   "execution_count": 9,
   "id": "4c1147df-2bb4-4658-9729-70c84d7f82fa",
   "metadata": {},
   "outputs": [
    {
     "name": "stderr",
     "output_type": "stream",
     "text": [
      "c:\\Users\\Douglas\\Desktop\\API-FATEC-6-SEM-IA\\venv\\Lib\\site-packages\\sentence_transformers\\cross_encoder\\CrossEncoder.py:13: TqdmExperimentalWarning: Using `tqdm.autonotebook.tqdm` in notebook mode. Use `tqdm.tqdm` instead to force console mode (e.g. in jupyter console)\n",
      "  from tqdm.autonotebook import tqdm, trange\n",
      "c:\\Users\\Douglas\\Desktop\\API-FATEC-6-SEM-IA\\venv\\Lib\\site-packages\\transformers\\tokenization_utils_base.py:1617: FutureWarning: `clean_up_tokenization_spaces` was not set. It will be set to `True` by default. This behavior will be deprecated in transformers v4.45, and will be then set to `False` by default. For more details check this issue: https://github.com/huggingface/transformers/issues/31884\n",
      "  warnings.warn(\n"
     ]
    }
   ],
   "source": [
    "# %% \n",
    "text_splitter = RecursiveCharacterTextSplitter(\n",
    "    chunk_size=1000, chunk_overlap=200)\n",
    "splits = text_splitter.split_documents(docs)\n",
    "\n",
    "model_name = 'sentence-transformers/all-MiniLM-L6-v2'\n",
    "model_kwargs = {'device': 'cpu'}\n",
    "encode_kwargs = {'normalize_embeddings': False}\n",
    "hf = HuggingFaceEmbeddings(\n",
    "    model_name=model_name,\n",
    "    model_kwargs=model_kwargs,\n",
    "    encode_kwargs=encode_kwargs\n",
    ")\n",
    "\n",
    "max_batch_size = 3000\n",
    "vector_db_path = os.path.join(dir_management.get_project_dir(), 'chroma_db')\n",
    "if  not os.path.exists(vector_db_path):\n",
    "    vectorstore = Chroma(\n",
    "        embedding_function=hf,\n",
    "        collection_name='reviews',\n",
    "        persist_directory=vector_db_path\n",
    "    )\n",
    "\n",
    "    for batch in batch_documents(splits, max_batch_size):\n",
    "        vectorstore.add_texts(\n",
    "            texts=[doc.page_content for doc in batch],\n",
    "            metadatas=[doc.metadata for doc in batch]\n",
    "        )\n",
    "\n",
    "else:\n",
    "    vectorstore = Chroma(\n",
    "        embedding_function=hf,\n",
    "        collection_name='reviews',\n",
    "        persist_directory=vector_db_path\n",
    "    )\n",
    "\n",
    "retriever = vectorstore.as_retriever()"
   ]
  },
  {
   "cell_type": "code",
   "execution_count": 10,
   "id": "07bea4be-279a-4268-b091-959349e88d7b",
   "metadata": {},
   "outputs": [],
   "source": [
    "# %%\n",
    "\n",
    "prompt_template = \"\"\"\n",
    "\n",
    "Responda sempre de forma clara e precisa em português do Brasil.\n",
    "Você é um assistente especializado em marketing e feedback de clientes. Responda perguntas que estejam relacionadas a marketing, campanhas, review de clientes, avaliações de produtos ou publicidade. \n",
    "Para perguntas fora desse escopo, responda: \"Essa pergunta está fora do escopo deste chatbot. Por favor, faça perguntas relacionadas a marketing.\"\n",
    "Para perguntas sobre produtos, use apenas o feedback dos clientes fornecido no contexto para responder, não invente respostas. Se o contexto não tiver informações suficientes, responda: \"Não há informações suficientes para responder a essa pergunta.\"\n",
    "\n",
    "Contexto: {context}\n",
    "Pergunta: {question}\n",
    "\n",
    "Resposta:\n",
    "\n",
    "\"\"\""
   ]
  },
  {
   "cell_type": "code",
   "execution_count": 11,
   "metadata": {},
   "outputs": [],
   "source": [
    "prompt_template2 = \"\"\"\n",
    "Responda sempre de forma clara e precisa em português do Brasil.\n",
    "\n",
    "\n",
    "Contexto: {context}\n",
    "Pergunta: {question}\n",
    "\n",
    "Resposta:\n",
    "\"\"\""
   ]
  },
  {
   "cell_type": "code",
   "execution_count": 12,
   "id": "128af9f1-c8ee-4ccf-a897-dfcbb32036d3",
   "metadata": {},
   "outputs": [],
   "source": [
    "# usando o banco \n",
    "\n",
    "def custom_prompt(context, question):\n",
    "    return prompt_template.format(context=context, question=question)\n",
    "\n",
    "def run_rag_chain(question):\n",
    "\n",
    "    retrieved_docs = retriever.invoke(question)  # aumentar para k=10 para ver o resultado \n",
    "    \n",
    "    formatted_context = format_docs(retrieved_docs)\n",
    "\n",
    "    full_prompt = custom_prompt(formatted_context, question)\n",
    "\n",
    "    response = llm.invoke(full_prompt)\n",
    "\n",
    "    parsed_response = StrOutputParser().parse(response)\n",
    "\n",
    "    return parsed_response.content"
   ]
  },
  {
   "cell_type": "code",
   "execution_count": 13,
   "metadata": {},
   "outputs": [],
   "source": [
    "# Sem usar o banco\n",
    "\n",
    "def custom_prompt2(context, question):\n",
    "    return prompt_template2.format(context=context, question=question)\n",
    "\n",
    "# Função para testes com o LLM isolado\n",
    "def run_llm_only_test(question):\n",
    "    # sem acessar o banco de dados vetorial\n",
    "    full_prompt = custom_prompt2(\"\", question)  # Sem contexto apenas a pergunta\n",
    "    response = llm.invoke(full_prompt)\n",
    "    parsed_response = StrOutputParser().parse(response)\n",
    "    return parsed_response.content"
   ]
  },
  {
   "cell_type": "code",
   "execution_count": 19,
   "metadata": {},
   "outputs": [],
   "source": [
    "question = [\n",
    "    'Como podemos melhorar a experiência do cliente com base nas avaliações recebidas?'\n",
    "]"
   ]
  },
  {
   "cell_type": "code",
   "execution_count": 28,
   "id": "b0b66413-5b9d-42f6-8793-c3e2074537d7",
   "metadata": {},
   "outputs": [
    {
     "name": "stdout",
     "output_type": "stream",
     "text": [
      "------------- testes com o banco de dados -------------\n",
      "Analisando as avaliações recebidas, é possível identificar alguns padrões e áreas de melhoria para melhorar a experiência do cliente. Aqui estão algumas sugestões:\n",
      "\n",
      "1. **Melhoria na entrega e logística**: Houve casos de produtos não entregues ou entregues com atraso (cama maca massagem portatil diva tl-msg-13 trevalla e leitor codigo barras laser cabo usb 30cm datamax danfe boleto). É fundamental melhorar a logística e a comunicação com os clientes sobre o status da entrega.\n",
      "2. **Atendimento ao cliente**: A falta de atendimento satisfatório e a demora em responder a solicitações de devolução ou assistência (leitor codigo barras laser cabo usb 30cm datamax danfe boleto) são problemas que precisam ser resolvidos.\n",
      "3. **Confiança na marca**: A avaliação negativa do site Submarino (caixa som fm usb cartao sd edifier xm6pf 48w rms - bivolt) pode ser relacionada à falta de comprometimento com a qualidade e a sinceridade na comunicação com os clientes.\n",
      "4. **Problemas com a entrega**: O caso da cama maca massagem portatil diva tl-msg-13 trevalla, onde o produto foi entregue usado e não dentro do prazo, é um exemplo de problema com a entrega que precisa ser resolvido.\n",
      "5. **Melhoria na comunicação**: A falta de comunicação clara e eficaz com os clientes é um problema recorrente em todas as avaliações. É fundamental melhorar a comunicação para evitar confusão e descontentamento.\n",
      "\n",
      "Para melhorar a experiência do cliente, é necessário:\n",
      "\n",
      "* Melhorar a logística e a entrega dos produtos;\n",
      "* Aumentar a transparência e a comunicação com os clientes sobre o status da entrega e do atendimento;\n",
      "* Treinar os atendentes para serem mais eficazes e resolutivos;\n",
      "* Fomentar a confiança na marca através da qualidade dos produtos e da sinceridade na comunicação;\n",
      "* Implementar um sistema de comunicação mais eficaz para evitar confusão e descontentamento.\n",
      "\n",
      "Essas são apenas algumas sugestões baseadas nas avaliações recebidas. É importante lembrar que cada caso é único e que é necessário analisar cada situação individualmente para encontrar soluções personalizadas.\n"
     ]
    }
   ],
   "source": [
    "\n",
    "print(\"------------- testes com o banco de dados -------------\")\n",
    "response = run_rag_chain(question[0])\n",
    "print(response)\n"
   ]
  },
  {
   "cell_type": "code",
   "execution_count": 29,
   "metadata": {},
   "outputs": [
    {
     "name": "stdout",
     "output_type": "stream",
     "text": [
      "------------- Testes com LLM Isolado (sem banco de dados) -------------\n",
      "Excelente pergunta!\n",
      "\n",
      "Melhorar a experiência do cliente é um objetivo fundamental para qualquer empresa que deseja manter e aumentar sua base de clientes. Para isso, é fundamental analisar as avaliações recebidas e identificar áreas de melhoria. Aqui estão algumas dicas para melhorar a experiência do cliente com base nas avaliações:\n",
      "\n",
      "1. **Analisar as avaliações**: Leia atentamente as avaliações recebidas e identifique os principais pontos positivos e negativos. Isso ajudará a entender melhor as necessidades e expectativas dos clientes.\n",
      "2. **Identificar padrões**: Busque padrões em relação às críticas e elogios recebidos. Isso pode ajudar a identificar áreas específicas que precisam de melhoria.\n",
      "3. **Desenvolver ações**: Baseado nas avaliações, desenvolva ações concretas para melhorar a experiência do cliente. Isso pode incluir treinamento para os funcionários, mudanças nos processos internos ou implementação de novas tecnologias.\n",
      "4. **Comunicar com os clientes**: Comunique com os clientes que fizeram as avaliações e agradeça suas opiniões. Isso demonstra que você valoriza suas opiniões e está comprometido em melhorar a experiência do cliente.\n",
      "5. **Monitorar e ajustar**: Monitorize as mudanças implementadas e ajuste as ações de acordo com as novas avaliações recebidas.\n",
      "6. **Fomentar a satisfação**: Fomente a satisfação dos clientes com ofertas especiais, promoções ou serviços personalizados.\n",
      "7. **Treinar os funcionários**: Treine os funcionários para que eles sejam capazes de atender às necessidades dos clientes de forma eficaz e eficiente.\n",
      "8. **Implementar feedback**: Implemente um sistema de feedback contínuo para que os clientes possam fornecer suas opiniões e sugestões em tempo real.\n",
      "\n",
      "Lembre-se de que melhorar a experiência do cliente é um processo contínuo e requer atenção constante e ajustes periódicos.\n"
     ]
    }
   ],
   "source": [
    "print(\"------------- Testes com LLM Isolado (sem banco de dados) -------------\")\n",
    "response = run_llm_only_test(question[0])\n",
    "print(response)"
   ]
  }
 ],
 "metadata": {
  "kernelspec": {
   "display_name": "venv",
   "language": "python",
   "name": "python3"
  },
  "language_info": {
   "codemirror_mode": {
    "name": "ipython",
    "version": 3
   },
   "file_extension": ".py",
   "mimetype": "text/x-python",
   "name": "python",
   "nbconvert_exporter": "python",
   "pygments_lexer": "ipython3",
   "version": "3.12.4"
  }
 },
 "nbformat": 4,
 "nbformat_minor": 2
}
