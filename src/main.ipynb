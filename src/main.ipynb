{
 "cells": [
  {
   "cell_type": "code",
   "execution_count": 1,
   "id": "227f6d24-6171-4510-ba53-96458407d0a3",
   "metadata": {},
   "outputs": [],
   "source": [
    "import os\n",
    "import re\n",
    "import spacy\n",
    "import nltk\n",
    "import unicodedata\n",
    "import pandas as pd\n",
    "from nltk.corpus import stopwords\n",
    "from dotenv import load_dotenv\n",
    "from langchain import hub\n",
    "from langchain_community.document_loaders import CSVLoader\n",
    "from langchain_groq import ChatGroq\n",
    "from langchain_text_splitters import RecursiveCharacterTextSplitter\n",
    "from langchain_huggingface import HuggingFaceEmbeddings\n",
    "from langchain_core.runnables import RunnablePassthrough\n",
    "from langchain_core.output_parsers import StrOutputParser\n",
    "from langchain_chroma import Chroma\n",
    "from util import dir_management"
   ]
  },
  {
   "cell_type": "code",
   "execution_count": 2,
   "metadata": {},
   "outputs": [],
   "source": [
    "load_dotenv()\n",
    "os.environ['LANGCHAIN_TRACING_V2'] = os.getenv('LANGCHAIN_TRACING_V2')\n",
    "os.environ['LANGCHAIN_API_KEY'] = os.getenv('LANGCHAIN_API_KEY')\n",
    "os.environ['GROQ_API_KEY'] = os.getenv('GROQ_API_KEY')\n",
    "llm = ChatGroq(model=\"llama3-8b-8192\")"
   ]
  },
  {
   "cell_type": "code",
   "execution_count": null,
   "metadata": {},
   "outputs": [],
   "source": [
    "nltk.download('stopwords')\n",
    "nlp = spacy.load('pt_core_news_sm')\n",
    "stop_words = set(stopwords.words('portuguese'))\n",
    "csv_columns = ['product_name', 'site_category_lv2',\n",
    "               'overall_rating', 'review_text']"
   ]
  },
  {
   "cell_type": "code",
   "execution_count": 4,
   "metadata": {},
   "outputs": [],
   "source": [
    "def clean_text(text):\n",
    "    text = text.lower()\n",
    "    text = re.sub(r'\\s+', ' ', text).strip()\n",
    "    return text\n",
    "\n",
    "\n",
    "def remove_exclamations_and_periods(text):\n",
    "    text = re.sub(r'[!.,@]', '', text)\n",
    "    return text\n",
    "\n",
    "\n",
    "def remove_stop_words(text):\n",
    "    return ' '.join([word for word in text.split() if word not in stop_words])\n",
    "\n",
    "\n",
    "def remove_accents(text):\n",
    "    text = unicodedata.normalize('NFD', text)\n",
    "    text = re.sub(r'[\\u0300-\\u036f]', '', text)\n",
    "    return text\n",
    "\n",
    "\n",
    "def format_docs(docs):\n",
    "    return '\\n\\n'.join(doc.page_content for doc in docs)\n"
   ]
  },
  {
   "cell_type": "code",
   "execution_count": null,
   "metadata": {},
   "outputs": [],
   "source": [
    "rows_number = 5000  # Define quantas rows do csv serão utilizadas no RAG\n",
    "df = pd.read_csv('../B2W-Reviews.csv')\n",
    "df_reduced = df.drop(\n",
    "    columns=[col for col in df.columns if col not in csv_columns])\n",
    "for column in csv_columns:\n",
    "    df_reduced[column] = df_reduced[column].apply(\n",
    "        lambda x: clean_text(str(x)))\n",
    "    df_reduced[column] = df_reduced[column].apply(\n",
    "        lambda x: remove_exclamations_and_periods(str(x)))\n",
    "    df_reduced[column] = df_reduced[column].apply(\n",
    "        lambda x: remove_accents(str(x)))\n",
    "    \n",
    "    \n",
    "result_file_name = f'B2W-Reviews-top{rows_number}.csv'\n",
    "new_df = df_reduced.head(rows_number).to_csv(os.path.join\n",
    "                                             (dir_management.get_out_dir(),\n",
    "                                              result_file_name))"
   ]
  },
  {
   "cell_type": "code",
   "execution_count": 25,
   "metadata": {},
   "outputs": [],
   "source": [
    "loader = CSVLoader(file_path=os.path.join(dir_management.get_out_dir(),\n",
    "                                          result_file_name),\n",
    "                   encoding='utf-8',\n",
    "                   csv_args={\n",
    "                       'delimiter': ',',\n",
    "                       'quotechar': '\"',\n",
    "                       'fieldnames': csv_columns\n",
    "})\n",
    "\n",
    "docs = loader.load()"
   ]
  },
  {
   "cell_type": "code",
   "execution_count": null,
   "metadata": {},
   "outputs": [],
   "source": [
    "text_splitter = RecursiveCharacterTextSplitter(\n",
    "    chunk_size=1000, chunk_overlap=200)\n",
    "splits = text_splitter.split_documents(docs)\n",
    "model_name = 'sentence-transformers/all-MiniLM-L6-v2'\n",
    "model_kwargs = {'device': 'cpu'}\n",
    "encode_kwargs = {'normalize_embeddings': False}\n",
    "hf = HuggingFaceEmbeddings(\n",
    "    model_name=model_name,\n",
    "    model_kwargs=model_kwargs,\n",
    "    encode_kwargs=encode_kwargs\n",
    ")\n",
    "vectorstore = Chroma.from_documents(\n",
    "    documents=splits, embedding=hf)\n",
    "\n",
    "retriever = vectorstore.as_retriever()"
   ]
  },
  {
   "cell_type": "code",
   "execution_count": 8,
   "metadata": {},
   "outputs": [],
   "source": [
    "prompt_template = \"\"\"\n",
    "\n",
    "Responda sempre de forma clara e precisa em português do Brasil.\n",
    "Você é um assistente especializado em marketing e feedback de clientes. Responda perguntas que estejam relacionadas a marketing, campanhas, review de clientes, avaliações de produtos ou publicidade. \n",
    "Para perguntas fora desse escopo, responda: \"Essa pergunta está fora do escopo deste chatbot. Por favor, faça perguntas relacionadas a marketing.\"\n",
    "Para perguntas sobre produtos, use apenas o feedback dos clientes fornecido no contexto para responder, não invente respostas. Se o contexto não tiver informações suficientes, responda: \"Não há informações suficientes para responder a essa pergunta.\"\n",
    "\n",
    "Contexto: {context}\n",
    "Pergunta: {question}\n",
    "\n",
    "Resposta:\n",
    "\n",
    "\"\"\""
   ]
  },
  {
   "cell_type": "code",
   "execution_count": 9,
   "metadata": {},
   "outputs": [],
   "source": [
    "def custom_prompt(context, question):\n",
    "    return prompt_template.format(context=context, question=question)\n",
    "\n",
    "# RAG Chain com prompt customizado \n",
    "def run_rag_chain(question):\n",
    "    # Recupera documentos e formata o contexto\n",
    "    retrieved_docs = retriever.invoke(question)# aumentar para k=10 para ver o resultado \n",
    "    formatted_context = format_docs(retrieved_docs)\n",
    "    \n",
    "    # Cria o prompt customizado\n",
    "    full_prompt = custom_prompt(formatted_context, question)\n",
    "    \n",
    "    # Passa o prompt para o modelo de linguagem\n",
    "    response = llm.invoke(full_prompt)\n",
    "    \n",
    "    # Parseia a resposta para o formato correto\n",
    "    parsed_response = StrOutputParser().parse(response)\n",
    "    \n",
    "    return parsed_response.content"
   ]
  },
  {
   "cell_type": "code",
   "execution_count": null,
   "metadata": {},
   "outputs": [],
   "source": [
    "response = run_rag_chain('Me fale sobre o clima de amanhã.')\n",
    "print(response)"
   ]
  },
  {
   "cell_type": "code",
   "execution_count": null,
   "metadata": {},
   "outputs": [],
   "source": [
    "response = run_rag_chain('Me fale sobre o Samsung Galaxy S24')\n",
    "print(response)"
   ]
  },
  {
   "cell_type": "code",
   "execution_count": null,
   "metadata": {},
   "outputs": [],
   "source": [
    "response = run_rag_chain (\"Pode me indicar bons smartphones?\")\n",
    "print(response)                    "
   ]
  },
  {
   "cell_type": "markdown",
   "metadata": {},
   "source": [
    "perguntas para marketing:\n",
    "\n",
    "Quais são os principais pontos de satisfação mencionados pelos clientes em suas avaliações?\n",
    "Quais são os principais motivos de insatisfação dos clientes sobre os produtos?\n",
    "Existe alguma tendência nos feedbacks que indica um aumento ou diminuição da satisfação do cliente?\n",
    "\n",
    "Quais características dos produtos são mais frequentemente elogiadas pelos clientes?\n",
    "Como os produto se comparam a concorrentes nas avaliações dos clientes?\n",
    "Quais produtos têm recebido as melhores e as piores avaliações, e por quê?\n",
    "\n",
    "Com base nos feedbacks, que ações de marketing podemos implementar para melhorar a percepção da marca?\n",
    "Quais campanhas anteriores parecem ter gerado mais impacto positivo, de acordo com as avaliações?\n",
    "Como podemos usar os feedbacks dos clientes para criar uma nova campanha de marketing?\n",
    "\n",
    "Existem padrões nas avaliações que indicam diferentes preferências entre diferentes grupos de clientes (por exemplo, idade, gênero, localização)?\n",
    "Que tipo de clientes estão mais satisfeitos com nosso produto e por quê?\n",
    "\n",
    "Quais tendências recentes podem ser observadas nos feedbacks que poderiam impactar nossas estratégias de marketing futuras?\n",
    "O que os clientes estão buscando atualmente que pode não estar sendo atendido pelos nossos produtos?\n",
    "\n",
    "Como podemos melhorar a experiência do cliente com base nas avaliações recebidas?\n",
    "Quais atributos dos produtos mais impactam a decisão de compra, de acordo com as opiniões dos clientes?\n",
    "Os clientes recomendariam o nosso produto a um amigo? Qual é a porcentagem de respostas positivas?\n",
    "\n",
    "Qual o produto mais bem avaliado pelos clientes ?\n",
    "Recomendações para melhorar a satisfação do cliente?\n",
    "Qual é o feedback positivos dos clientes sobre os produtos?"
   ]
  },
  {
   "cell_type": "markdown",
   "metadata": {},
   "source": [
    "s campanhas anteriores parecem ter gerado mais impacto positivo, de acordo com as avaliações?\n",
    "Como podemos usar os feedbacks dos clientes para criar uma nova campanha de marketing?\n",
    "\n",
    "Existem padrões nas avaliações que indicam diferentes preferências entre diferentes grupos de clientes (por exemplo, idade, gênero, localização)?\n",
    "Que tipo de clientes estão mais satisfeitos com nosso produto e por quê?\n",
    "\n",
    "Quais tendências recentes podem ser observadas nos feedbacks que poderiam impactar nossas estratégias de marketing futuras?\n",
    "O que os clientes estão buscando atualmente que pode não estar sendo atendido pelos nossos produtos?\n",
    "\n",
    "Como podemos melhorar a experiência do cliente com base nas avaliações recebidas?\n",
    "Quais atributos dos produtos mais impactam a decisão de compra, de acordo com as opiniões dos clientes?\n",
    "Os clientes recomendariam o nosso produto a um amigo? Qual é a porcentagem de respostas positivas?\n",
    "\n",
    "Qual o produto mais bem avaliado pelos clientes ?\n",
    "Recomendações para melhorar a satisfação do cliente?\n",
    "Qual é o feedback positivos dos clientes sobre os produtos?"
   ]
  }
 ],
 "metadata": {
  "kernelspec": {
   "display_name": "venv",
   "language": "python",
   "name": "python3"
  },
  "language_info": {
   "codemirror_mode": {
    "name": "ipython",
    "version": 3
   },
   "file_extension": ".py",
   "mimetype": "text/x-python",
   "name": "python",
   "nbconvert_exporter": "python",
   "pygments_lexer": "ipython3",
   "version": "3.12.4"
  }
 },
 "nbformat": 4,
 "nbformat_minor": 2
}
